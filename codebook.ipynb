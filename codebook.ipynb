{
 "cells": [
  {
   "cell_type": "code",
   "execution_count": 1,
   "id": "05ab6dd3-a543-4430-a3a9-677f2b80b983",
   "metadata": {},
   "outputs": [],
   "source": [
    "import modal"
   ]
  },
  {
   "cell_type": "code",
   "execution_count": 2,
   "id": "1570cc07-cae7-4254-bd7a-5d6d323901a4",
   "metadata": {},
   "outputs": [
    {
     "name": "stdout",
     "output_type": "stream",
     "text": [
      "\u001b[2KThe web browser should have opened for you to authenticate and get an API token.\n",
      "If it didn't, please copy this URL into your web browser manually:\n",
      "\n",
      "\u001b[2K\u001b]8;id=616096;https://modal.com/token-flow/tf-NBybRoAfPOgIvGnxvNXidQ\u001b\\\u001b[4;94mhttps://modal.com/token-flow/tf-NBybRoAfPOgIvGnxvNXidQ\u001b[0m\u001b]8;;\u001b\\\n",
      "\n",
      "\u001b[2K\u001b[32m⠙\u001b[0m Waiting for authentication in the web browser\n",
      "\u001b[2K\u001b[32m⠦\u001b[0m Waiting for token flow to complete...\n",
      "\u001b[1A\u001b[2K\u001b[32mWeb authentication finished successfully!\u001b[0m\n",
      "\u001b[32mToken is connected to the \u001b[0m\u001b[35mtejasjay\u001b[0m\u001b[32m workspace.\u001b[0m\n",
      "Verifying token against \u001b[4;34mhttps://api.modal.com\u001b[0m\n",
      "\u001b[32mToken verified successfully!\u001b[0m\n",
      "\u001b[?25l\u001b[32m⠋\u001b[0m Storing token\n",
      "\u001b[1A\u001b[2K\u001b[32mToken written to \u001b[0m\u001b[35m/Users/tejasjay/\u001b[0m\u001b[35m.modal.toml\u001b[0m\u001b[32m in profile \u001b[0m\u001b[35mtejasjay\u001b[0m\u001b[32m.\u001b[0m\n"
     ]
    }
   ],
   "source": [
    "!modal setup"
   ]
  },
  {
   "cell_type": "markdown",
   "id": "8872d100-6d86-47e9-8855-b7f6150af91b",
   "metadata": {},
   "source": [
    "## Testing"
   ]
  },
  {
   "cell_type": "code",
   "execution_count": 3,
   "id": "5050c3e4-387c-4b2c-bad2-1e71ea77d3e0",
   "metadata": {},
   "outputs": [],
   "source": [
    "from hello import app, hello"
   ]
  },
  {
   "cell_type": "code",
   "execution_count": 6,
   "id": "21f6fe5c-4348-4272-bebf-8faaacfa30a4",
   "metadata": {},
   "outputs": [
    {
     "name": "stdout",
     "output_type": "stream",
     "text": [
      "Hello from Windsor, Ontario, CA!!\n"
     ]
    },
    {
     "data": {
      "text/plain": [
       "'Hello from Windsor, Ontario, CA!!'"
      ]
     },
     "execution_count": 6,
     "metadata": {},
     "output_type": "execute_result"
    }
   ],
   "source": [
    "with app.run():\n",
    "    reply = hello.local()\n",
    "reply"
   ]
  },
  {
   "cell_type": "code",
   "execution_count": 7,
   "id": "e1d50287-b0b5-413f-bbd9-6fc9ee1c6bd7",
   "metadata": {},
   "outputs": [
    {
     "data": {
      "text/plain": [
       "'Hello from Ashburn, Virginia, US!!'"
      ]
     },
     "execution_count": 7,
     "metadata": {},
     "output_type": "execute_result"
    }
   ],
   "source": [
    "with app.run():\n",
    "    reply = hello.remote()\n",
    "reply"
   ]
  },
  {
   "cell_type": "code",
   "execution_count": null,
   "id": "75b1a4f2-9bff-4599-aef0-8244d80d3045",
   "metadata": {},
   "outputs": [],
   "source": []
  }
 ],
 "metadata": {
  "kernelspec": {
   "display_name": "Python 3 (ipykernel)",
   "language": "python",
   "name": "python3"
  },
  "language_info": {
   "codemirror_mode": {
    "name": "ipython",
    "version": 3
   },
   "file_extension": ".py",
   "mimetype": "text/x-python",
   "name": "python",
   "nbconvert_exporter": "python",
   "pygments_lexer": "ipython3",
   "version": "3.11.11"
  }
 },
 "nbformat": 4,
 "nbformat_minor": 5
}
